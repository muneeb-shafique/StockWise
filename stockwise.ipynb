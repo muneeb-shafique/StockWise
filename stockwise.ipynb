{
 "cells": [
  {
   "cell_type": "code",
   "execution_count": null,
   "id": "f7fe3d22-78f9-439b-8c9e-1082db7da19e",
   "metadata": {},
   "outputs": [],
   "source": [
    "## Imports\n",
    "import os\n",
    "import pandas as pd\n",
    "import numpy as np\n",
    "import matplotlib.pyplot as plt\n",
    "import joblib\n",
    "\n",
    "from sklearn.linear_model import LinearRegression\n",
    "from sklearn.model_selection import TimeSeriesSplit\n",
    "from sklearn.metrics import mean_squared_error, r2_score\n",
    "\n",
    "import warnings\n",
    "warnings.filterwarnings('ignore')"
   ]
  },
  {
   "cell_type": "code",
   "execution_count": null,
   "id": "2b4d78d3-68b6-49ac-aad1-540c1d89991a",
   "metadata": {},
   "outputs": [],
   "source": [
    "## Create output directory\n",
    "os.makedirs('outputs', exist_ok=True)"
   ]
  },
  {
   "cell_type": "code",
   "execution_count": null,
   "id": "eb0db986-2fc5-47fb-8829-c0733e3a4260",
   "metadata": {},
   "outputs": [],
   "source": [
    "## Load and Clean the Data\n",
    "def load_data(path='Data/RELIANCE.csv'):\n",
    "    df = pd.read_csv(path)\n",
    "    df = df[['Date', 'Open', 'High', 'Low', 'Close', 'Volume']]\n",
    "    df['Date'] = pd.to_datetime(df['Date'])\n",
    "    df.sort_values('Date', inplace=True)\n",
    "    df.dropna(inplace=True)\n",
    "    return df\n",
    "\n",
    "df = load_data()\n",
    "df.head()"
   ]
  },
  {
   "cell_type": "code",
   "execution_count": null,
   "id": "9a900636-3b61-45c3-9694-7d8c5f5f4910",
   "metadata": {},
   "outputs": [],
   "source": [
    "## Preprocess and Create Target Variables\n",
    "def preprocess(df):\n",
    "    df = df.copy()\n",
    "    df['Target'] = df['Close'].shift(-1)\n",
    "    df['Future_Close_3'] = df['Close'].shift(-3).rolling(3).mean()\n",
    "    df['Future_Close_5'] = df['Close'].shift(-5).rolling(5).mean()\n",
    "    df.dropna(inplace=True)\n",
    "\n",
    "    features = ['Open', 'High', 'Low', 'Close', 'Volume']\n",
    "    X = df[features]\n",
    "    y = df['Target']\n",
    "    future_y_3 = df['Future_Close_3']\n",
    "    future_y_5 = df['Future_Close_5']\n",
    "    dates = df['Date']\n",
    "\n",
    "    return X, y, future_y_3, future_y_5, dates\n",
    "\n",
    "X, y, y3, y5, dates = preprocess(df)\n",
    "X.head()"
   ]
  },
  {
   "cell_type": "code",
   "execution_count": null,
   "id": "30a74754-6831-4942-83b8-d62883d79e78",
   "metadata": {},
   "outputs": [],
   "source": [
    "## Train a Linear Regression Model with TimeSeriesSplit\n",
    "def train_model(X, y):\n",
    "    tscv = TimeSeriesSplit(n_splits=5)\n",
    "    model = LinearRegression()\n",
    "    scores = []\n",
    "\n",
    "    for train_index, test_index in tscv.split(X):\n",
    "        X_train, X_test = X.iloc[train_index], X.iloc[test_index]\n",
    "        y_train, y_test = y.iloc[train_index], y.iloc[test_index]\n",
    "        model.fit(X_train, y_train)\n",
    "        scores.append(model.score(X_test, y_test))\n",
    "\n",
    "    print(\"Average R² Score (TimeSeries CV):\", np.mean(scores))\n",
    "    model.fit(X, y)\n",
    "    return model\n",
    "\n",
    "model = train_model(X, y)"
   ]
  },
  {
   "cell_type": "code",
   "execution_count": null,
   "id": "6418d7f1-34de-4c6f-9806-08cc4db75a1e",
   "metadata": {},
   "outputs": [],
   "source": [
    "## Evaluate and Visualize Predictions\n",
    "def evaluate_model(model, X, y, dates):\n",
    "    y_pred = model.predict(X)\n",
    "    mse = mean_squared_error(y, y_pred)\n",
    "    r2 = r2_score(y, y_pred)\n",
    "\n",
    "    print(f\"MSE: {mse:.2f}\")\n",
    "    print(f\"R² Score: {r2:.4f}\")\n",
    "\n",
    "    results_df = pd.DataFrame({\n",
    "        'Date': dates,\n",
    "        'Actual': y,\n",
    "        'Predicted': y_pred\n",
    "    })\n",
    "\n",
    "    results_df.to_csv('outputs/predictions.csv', index=False)\n",
    "\n",
    "    plt.figure(figsize=(14, 6))\n",
    "    plt.plot(results_df['Date'], results_df['Actual'], label='Actual')\n",
    "    plt.plot(results_df['Date'], results_df['Predicted'], label='Predicted', linestyle='--')\n",
    "    plt.title('Stock Price Prediction vs Actual')\n",
    "    plt.xlabel('Date')\n",
    "    plt.ylabel('Close Price')\n",
    "    plt.legend()\n",
    "    plt.grid(True)\n",
    "    plt.tight_layout()\n",
    "    plt.savefig('outputs/full_predictions_plot.png')\n",
    "    plt.show()\n",
    "\n",
    "evaluate_model(model, X, y, dates)"
   ]
  },
  {
   "cell_type": "code",
   "execution_count": null,
   "id": "46636760-ce19-4509-b33b-e66abcb91cc2",
   "metadata": {},
   "outputs": [],
   "source": [
    "## Save model to disk\n",
    "def save_model(model):\n",
    "    joblib.dump(model, 'outputs/stock_model.pkl')\n",
    "    print(\"Model saved to outputs/stock_model.pkl\")\n",
    "\n",
    "save_model(model)"
   ]
  },
  {
   "cell_type": "code",
   "execution_count": null,
   "id": "4516922a-b321-401d-a400-71ef76b5b083",
   "metadata": {},
   "outputs": [],
   "source": [
    "## Completion Message\n",
    "print(\"✅ All tasks completed. Outputs saved to /outputs/\")"
   ]
  }
 ],
 "metadata": {
  "kernelspec": {
   "display_name": "Python 3 (ipykernel)",
   "language": "python",
   "name": "python3"
  },
  "language_info": {
   "codemirror_mode": {
    "name": "ipython",
    "version": 3
   },
   "file_extension": ".py",
   "mimetype": "text/x-python",
   "name": "python",
   "nbconvert_exporter": "python",
   "pygments_lexer": "ipython3",
   "version": "3.13.3"
  }
 },
 "nbformat": 4,
 "nbformat_minor": 5
}
